{
 "cells": [
  {
   "cell_type": "code",
   "execution_count": 1,
   "id": "7eb03ce7-b24a-4f21-b0ad-d9dc4740d284",
   "metadata": {},
   "outputs": [],
   "source": [
    "import re, json, statistics"
   ]
  },
  {
   "cell_type": "code",
   "execution_count": 2,
   "id": "474c2517-4e00-46c2-89b8-19fb672dd87c",
   "metadata": {},
   "outputs": [],
   "source": [
    "import fitz  # PyMuPDF"
   ]
  },
  {
   "cell_type": "code",
   "execution_count": 3,
   "id": "8a639adc-3e91-4e10-b64d-52a274e8fe5a",
   "metadata": {},
   "outputs": [],
   "source": [
    "from typing import List, Dict, Any, Optional"
   ]
  },
  {
   "cell_type": "code",
   "execution_count": 4,
   "id": "3d549eb9-7c2b-492b-bda5-024a341d9376",
   "metadata": {},
   "outputs": [],
   "source": [
    "HEADING_SIZES = {  # 映射字号 -> 层级\n",
    "    25.5: 1,   # H1\n",
    "    21.0: 2,   # H2\n",
    "    16.5: 3,   # H3\n",
    "}\n",
    "BODY_SIZE = 12.0\n",
    "SIDE_NUMBER_SIZE = 10.0\n",
    "SIZE_TOL = 0.5"
   ]
  },
  {
   "cell_type": "code",
   "execution_count": 5,
   "id": "e20d315d-1aff-439d-88d5-a9339612da9c",
   "metadata": {},
   "outputs": [],
   "source": [
    "# 10pt 侧边编号的识别\n",
    "SIDE_NUMBER_RE = re.compile(r\"^\\d+(?:\\.\\d+)*\\.?$\")"
   ]
  },
  {
   "cell_type": "code",
   "execution_count": 6,
   "id": "0922f440-4e30-4e74-94c7-e0e20961f485",
   "metadata": {},
   "outputs": [],
   "source": [
    "# 粗体识别（用于引用标注与年份抽取）\n",
    "def is_bold_font(fontname: str) -> bool:\n",
    "    return bool(re.search(r\"(bold|semibold|demi)\", fontname, re.I))"
   ]
  },
  {
   "cell_type": "code",
   "execution_count": 7,
   "id": "4e2bcf90-aa9c-41b7-adfb-0059b13ea88d",
   "metadata": {},
   "outputs": [],
   "source": [
    "# 段内 [ ... ] 片段\n",
    "BRACKETED_RE = re.compile(r\"\\[(.+?)\\]\")\n",
    "YEAR_RE = re.compile(r\"\\b(19|20)\\d{2}\\b\")  # 1900–2099 年份"
   ]
  },
  {
   "cell_type": "code",
   "execution_count": 8,
   "id": "81e9f4ff-8bad-4a11-9a96-f40d01038e54",
   "metadata": {},
   "outputs": [],
   "source": [
    "def snap_size(sz: float) -> float:\n",
    "    for target in list(HEADING_SIZES.keys()) + [BODY_SIZE, SIDE_NUMBER_SIZE]:\n",
    "        if abs(sz - target) <= SIZE_TOL:\n",
    "            return target\n",
    "    return sz\n",
    "\n",
    "def heading_level_from_size(sz: float) -> Optional[int]:\n",
    "    snapped = snap_size(sz)\n",
    "    return HEADING_SIZES.get(snapped, None)\n",
    "\n",
    "def is_body_size(sz: float) -> bool:\n",
    "    return abs(snap_size(sz) - BODY_SIZE) <= SIZE_TOL\n",
    "\n",
    "def is_side_number_size(sz: float) -> bool:\n",
    "    return abs(snap_size(sz) - SIDE_NUMBER_SIZE) <= SIZE_TOL\n",
    "\n",
    "def normalize_whitespace(s: str) -> str:\n",
    "    return re.sub(r\"\\s+\", \" \", s).strip()"
   ]
  },
  {
   "cell_type": "code",
   "execution_count": 9,
   "id": "29996d33-fcbb-48ff-a0ea-fa6173a8687b",
   "metadata": {},
   "outputs": [],
   "source": [
    "def join_lines_smart(lines: List[str]) -> str:\n",
    "    out = []\n",
    "    for t in lines:\n",
    "        t = t.rstrip()\n",
    "        if not out:\n",
    "            out.append(t)\n",
    "        else:\n",
    "            prev = out[-1]\n",
    "            if prev.endswith(\"-\"):\n",
    "                out[-1] = prev[:-1] + t.lstrip()\n",
    "            else:\n",
    "                out[-1] = prev + \" \" + t.lstrip()\n",
    "    return normalize_whitespace(out[0]) if out else \"\""
   ]
  },
  {
   "cell_type": "code",
   "execution_count": 19,
   "id": "8f10a2da-9dd2-4920-955e-256eec13fd66",
   "metadata": {},
   "outputs": [],
   "source": [
    "def annotate_refs_in_span_text(text: str, fontname: str):\n",
    "    \"\"\"\n",
    "    对于粗体字体的 span：\n",
    "      - 查找形如 [ ... ] 的片段；\n",
    "      - 提取其中所有年份；\n",
    "      - 用“带 [] 的纯文本年份”替换原内容：\n",
    "          单年 -> \"[2008]\"\n",
    "          多年（如 \"[2018,  amended 2019]\"）-> \"[2018, 2019]\"\n",
    "    返回：annotated_text, years_list\n",
    "    对于非粗体，原样返回（不做替换）。\n",
    "    \"\"\"\n",
    "    if not is_bold_font(fontname):\n",
    "        return text, []\n",
    "\n",
    "    years_all = []\n",
    "\n",
    "    def _replace(m):\n",
    "        inner = m.group(1)\n",
    "        # 收集完整 4 位年份（支持多年份，如 \"2018 ... 2019\"）\n",
    "        years_full = [im.group(0) for im in YEAR_RE.finditer(inner)]\n",
    "        if years_full:\n",
    "            for y in years_full:\n",
    "                try:\n",
    "                    years_all.append(int(y))\n",
    "                except Exception:\n",
    "                    pass\n",
    "            # 拼接年份并保留方括号\n",
    "            return \"[\" + \", \".join(years_full) + \"]\"\n",
    "        else:\n",
    "            # 没有年份，保持原样\n",
    "            return \"[\" + inner + \"]\"\n",
    "\n",
    "    annotated = BRACKETED_RE.sub(_replace, text)\n",
    "    return annotated, years_all\n"
   ]
  },
  {
   "cell_type": "code",
   "execution_count": 20,
   "id": "16d1ceec-ba1b-456b-bba2-713a63dacee2",
   "metadata": {},
   "outputs": [],
   "source": [
    "# 新增：页眉/页脚过滤配置与工具\n",
    "HEADER_MARGIN = 50   # 你可以按需要调整\n",
    "FOOTER_MARGIN = 50   # 你可以按需要调整\n",
    "\n",
    "def is_header_or_footer(bbox, page_height, header_margin=HEADER_MARGIN, footer_margin=FOOTER_MARGIN) -> bool:\n",
    "    \"\"\"\n",
    "    基于 y 坐标过滤页眉/页脚：\n",
    "      - 页眉：y0 < header_margin\n",
    "      - 页脚：y1 > page_height - footer_margin\n",
    "    \"\"\"\n",
    "    if not bbox or len(bbox) < 4:\n",
    "        return False\n",
    "    y0, y1 = bbox[1], bbox[3]\n",
    "    return (y0 < header_margin) or (y1 > (page_height - footer_margin))\n"
   ]
  },
  {
   "cell_type": "code",
   "execution_count": 21,
   "id": "6d3dc08d-a666-45f7-9fd4-42dfa8494dc3",
   "metadata": {},
   "outputs": [],
   "source": [
    "def extract_pdf_to_jsonl(pdf_path: str, out_path: str,\n",
    "                         header_margin: int = HEADER_MARGIN,\n",
    "                         footer_margin: int = FOOTER_MARGIN) -> None:\n",
    "    doc = fitz.open(pdf_path)\n",
    "\n",
    "    section_stack: List[str] = [\"\", \"\", \"\"]  # H1/H2/H3\n",
    "    current_para_lines: List[str] = []\n",
    "    current_para_refs: List[int] = []\n",
    "    current_para_pending_label: Optional[str] = None\n",
    "\n",
    "    def emit_heading(level: int, title: str, page_no: int, f):\n",
    "        nonlocal section_stack\n",
    "        title = normalize_whitespace(title)\n",
    "        idx = level - 1\n",
    "        section_stack[idx] = title\n",
    "        for j in range(idx + 1, len(section_stack)):\n",
    "            section_stack[j] = \"\"\n",
    "        rec = {\n",
    "            \"type\": \"heading\",\n",
    "            \"level\": level,\n",
    "            \"title\": title,\n",
    "            \"page\": page_no,\n",
    "            \"section_path\": [s for s in section_stack if s],\n",
    "        }\n",
    "        f.write(json.dumps(rec, ensure_ascii=False) + \"\\n\")\n",
    "\n",
    "    def flush_paragraph(page_no: int, f=None):\n",
    "        nonlocal current_para_lines, current_para_refs, current_para_pending_label\n",
    "        if not current_para_lines:\n",
    "            current_para_refs = []\n",
    "            current_para_pending_label = None\n",
    "            return\n",
    "        text = join_lines_smart(current_para_lines)\n",
    "        rec = {\n",
    "            \"type\": \"paragraph\",\n",
    "            \"text\": text,\n",
    "            \"page\": page_no,\n",
    "            \"section_path\": [s for s in section_stack if s],\n",
    "        }\n",
    "        if current_para_pending_label:\n",
    "            rec[\"side_label\"] = current_para_pending_label\n",
    "        if current_para_refs:\n",
    "            seen, ordered = set(), []\n",
    "            for y in current_para_refs:\n",
    "                if y not in seen:\n",
    "                    ordered.append(y); seen.add(y)\n",
    "            rec[\"refs\"] = ordered\n",
    "        f.write(json.dumps(rec, ensure_ascii=False) + \"\\n\")\n",
    "        current_para_lines = []\n",
    "        current_para_refs = []\n",
    "        current_para_pending_label = None\n",
    "\n",
    "    # === 拆分 1：处理单页 ===\n",
    "    def process_page(page, page_no: int, f):\n",
    "        page_height = page.rect.height\n",
    "        d = page.get_text(\"dict\")\n",
    "\n",
    "        pending_heading_level: Optional[int] = None\n",
    "        pending_heading_lines: List[str] = []\n",
    "\n",
    "        def flush_heading_if_any():\n",
    "            nonlocal pending_heading_level, pending_heading_lines\n",
    "            if pending_heading_level is not None and pending_heading_lines:\n",
    "                title = join_lines_smart(pending_heading_lines)\n",
    "                emit_heading(pending_heading_level, title, page_no, f)\n",
    "            pending_heading_level = None\n",
    "            pending_heading_lines = []\n",
    "\n",
    "        # === 拆分 2：处理单个 span ===\n",
    "        def handle_span(span):\n",
    "            nonlocal pending_heading_level, pending_heading_lines\n",
    "            raw = span.get(\"text\", \"\")\n",
    "            if not raw.strip():\n",
    "                return\n",
    "\n",
    "            # 新增：页眉/页脚过滤\n",
    "            bbox = span.get(\"bbox\", [0, 0, 0, 0])\n",
    "            if is_header_or_footer(bbox, page_height, header_margin, footer_margin):\n",
    "                return\n",
    "\n",
    "            fontname = span.get(\"font\", \"\")\n",
    "            size = float(span.get(\"size\", 0.0))\n",
    "            size_snapped = snap_size(size)\n",
    "\n",
    "            # 10pt 侧边编号\n",
    "            if is_side_number_size(size_snapped) and SIDE_NUMBER_RE.match(raw.strip()):\n",
    "                flush_heading_if_any()\n",
    "                # 挂到下一段正文\n",
    "                nonlocal current_para_pending_label\n",
    "                current_para_pending_label = raw.strip()\n",
    "                return\n",
    "\n",
    "            # 标题？\n",
    "            lvl = heading_level_from_size(size_snapped)\n",
    "            if lvl is not None:\n",
    "                flush_paragraph(page_no, f)\n",
    "                if (pending_heading_level is not None) and (lvl != pending_heading_level):\n",
    "                    flush_heading_if_any()\n",
    "                pending_heading_level = lvl\n",
    "                pending_heading_lines.append(raw)\n",
    "                return\n",
    "\n",
    "            # 进入正文或其他\n",
    "            if pending_heading_level is not None:\n",
    "                flush_heading_if_any()\n",
    "\n",
    "            if is_body_size(size_snapped):\n",
    "                annotated, years = annotate_refs_in_span_text(raw, fontname)\n",
    "                if years:\n",
    "                    current_para_refs.extend(years)\n",
    "                current_para_lines.append(annotated)\n",
    "            else:\n",
    "                # 遇到其他字号，视为段落边界\n",
    "                flush_paragraph(page_no, f)\n",
    "\n",
    "        # 遍历该页内容\n",
    "        for block in d.get(\"blocks\", []):\n",
    "            if block.get(\"type\", 0) != 0:\n",
    "                continue\n",
    "            for line in block.get(\"lines\", []):\n",
    "                for span in line.get(\"spans\", []):\n",
    "                    handle_span(span)\n",
    "            # 一个 block 结束，若有挂起标题，输出之\n",
    "            if pending_heading_level is not None:\n",
    "                flush_heading_if_any()\n",
    "\n",
    "        # 页面结束，落盘未完成段落\n",
    "        flush_paragraph(page_no, f)\n",
    "\n",
    "    # 主循环\n",
    "    with open(out_path, \"w\", encoding=\"utf-8\") as f:\n",
    "        for p_idx in range(len(doc)):\n",
    "            process_page(doc[p_idx], p_idx + 1, f)\n",
    "\n",
    "    doc.close()\n",
    "    print(f\"✅ 提取完成：{out_path}\")\n"
   ]
  },
  {
   "cell_type": "code",
   "execution_count": 22,
   "id": "0bdc88be-3a4d-4892-9f61-af5a08422f72",
   "metadata": {},
   "outputs": [],
   "source": [
    "# === 运行区 ===\n",
    "# 1) 设置输入/输出路径\n",
    "input_pdf = \"../data/adhd_guideline.pdf\"        # ← 改成你的 PDF 路径\n",
    "output_jsonl = \"../data/adhd_guideline.jsonl\"  # ← 想要保存的 JSONL 路径\n",
    "\n",
    "# 2) 执行抽取\n",
    "# extract_pdf_to_jsonl(input_pdf, output_jsonl)\n",
    "# 执行后可用下面的单元查看若干行结果"
   ]
  },
  {
   "cell_type": "code",
   "execution_count": 23,
   "id": "6a8f6a59-ad6e-4b54-b923-7e6adc5bf48f",
   "metadata": {},
   "outputs": [
    {
     "name": "stdout",
     "output_type": "stream",
     "text": [
      "✅ 提取完成：../data/adhd_guideline.jsonl\n"
     ]
    }
   ],
   "source": [
    "extract_pdf_to_jsonl(input_pdf, output_jsonl)"
   ]
  },
  {
   "cell_type": "code",
   "execution_count": 24,
   "id": "8aa54a4e-14c5-46c9-9ab7-7cb1e51d22a5",
   "metadata": {},
   "outputs": [],
   "source": [
    "# 预览输出（如已生成）\n",
    "def head_jsonl(path: str, n: int = 10):\n",
    "    try:\n",
    "        with open(path, \"r\", encoding=\"utf-8\") as f:\n",
    "            for i, line in enumerate(f):\n",
    "                if i >= n: break\n",
    "                print(line.rstrip())\n",
    "    except FileNotFoundError:\n",
    "        print(\"未找到文件：\", path)"
   ]
  },
  {
   "cell_type": "code",
   "execution_count": 25,
   "id": "3824f1c9-9dcb-4979-b644-fd559f104d5e",
   "metadata": {},
   "outputs": [
    {
     "name": "stdout",
     "output_type": "stream",
     "text": [
      "{\"type\": \"paragraph\", \"text\": \"This guideline replaces CG72, TA98, ESNM19, ESUOM8 and ESNM70. This guideline is the basis of QS39.\", \"page\": 1, \"section_path\": []}\n",
      "{\"type\": \"heading\", \"level\": 1, \"title\": \"Overview\", \"page\": 1, \"section_path\": [\"Overview\"]}\n",
      "{\"type\": \"paragraph\", \"text\": \"This guideline covers recognising, diagnosing and managing attention deficit hyperactivity disorder (ADHD) in children, young people and adults. It aims to improve recognition and diagnosis, as well as the quality of care and support for people with ADHD.\", \"page\": 1, \"section_path\": [\"Overview\"]}\n",
      "{\"type\": \"heading\", \"level\": 2, \"title\": \"Who is it for?\", \"page\": 1, \"section_path\": [\"Overview\", \"Who is it for?\"]}\n",
      "{\"type\": \"paragraph\", \"text\": \"• Healthcare professionals • Commissioners and providers • People with ADHD, and their families and carers\", \"page\": 1, \"section_path\": [\"Overview\", \"Who is it for?\"]}\n",
      "{\"type\": \"heading\", \"level\": 1, \"title\": \"Recommendations\", \"page\": 2, \"section_path\": [\"Recommendations\"]}\n",
      "{\"type\": \"paragraph\", \"text\": \"People have the right to be involved in discussions and make informed decisions about their care, as described in making decisions about your care Making decisions using NICE guidelines explains how we use words to show the strength (or certainty) of our recommendations, and has information about prescribing medicines (including off-label use), professionals guidelines, standards and laws (including on consent and mental capacity), and safeguarding.\", \"page\": 2, \"section_path\": [\"Recommendations\"]}\n",
      "{\"type\": \"heading\", \"level\": 2, \"title\": \"1.1 Service organisation and training\", \"page\": 2, \"section_path\": [\"Recommendations\", \"1.1 Service organisation and training\"]}\n",
      "{\"type\": \"heading\", \"level\": 3, \"title\": \"Service organisation\", \"page\": 2, \"section_path\": [\"Recommendations\", \"1.1 Service organisation and training\", \"Service organisation\"]}\n",
      "{\"type\": \"paragraph\", \"text\": \"People with attention deficit hyperactivity disorder (ADHD) would benefit from improved organisation of care and better integration of child health services, child and adolescent mental health services (CAMHS) and adult mental health services. [2008] Mental health services for children, young people and adults, and child health services, should form multidisciplinary specialist ADHD teams and/or clinics for children and young people, and separate teams and/or clinics for adults. These teams and clinics should have expertise in the diagnosis and management of ADHD, and should: • provide diagnostic, treatment and consultation services for people with ADHD who have complex needs, or where general psychiatric services are in doubt about the diagnosis and/or management of ADHD • put in place systems of communication and protocols for information sharing among paediatric, child and adolescent, forensic, and adult mental health services for people with ADHD, including arrangements for transition between child and adult services\", \"page\": 2, \"section_path\": [\"Recommendations\", \"1.1 Service organisation and training\", \"Service organisation\"], \"side_label\": \"1.1.2\", \"refs\": [2008]}\n",
      "{\"type\": \"paragraph\", \"text\": \"• produce local protocols for shared care arrangements with primary care providers, and ensure that clear lines of communication between primary and secondary care are maintained • ensure age-appropriate psychological services are available for children, young people and adults with ADHD, and for parents or carers. The size and time commitment of these teams should depend on local circumstances (for example, the size of the trust, the population covered and the estimated referral rate for people with ADHD). [2008, 2018] Every locality should develop a multi-agency group, with representatives from multidisciplinary specialist ADHD teams, paediatrics, mental health and learning disability trusts, forensic services, CAMHS, the Directorate for Children and Young People (DCYP; including services for education and social services), parent support groups and others with a significant local involvement in ADHD services. The group should: • oversee the implementation of this guideline • start and coordinate local training initiatives, including the provision of training and information for teachers about the characteristics of ADHD and its basic behavioural management • oversee the development and coordination of parent-training/education programmes • consider compiling a comprehensive directory of information and services for ADHD including advice on how to contact relevant services and assist in the development of specialist teams. [2008, 2018] A young person with ADHD receiving treatment and care from CAMHS or paediatric services should be reassessed at school-leaving age to establish the need for continuing treatment into adulthood. If treatment is necessary, arrangements should be made for a smooth transition to adult services with details of the anticipated treatment and services that the young person will require. Precise timing of arrangements may vary locally but should usually be completed by the time the young person is 18 years. See NICE's guideline on transition from children's to adults' services for young people using health or\", \"page\": 3, \"section_path\": [\"Recommendations\", \"1.1 Service organisation and training\", \"Service organisation\"], \"side_label\": \"1.1.4\", \"refs\": [2008, 2018]}\n",
      "{\"type\": \"paragraph\", \"text\": \"social care services . [2008, 2018] During the transition to adult services, a formal meeting involving CAMHS and/or paediatrics and adult psychiatric services should be considered, and full information provided to the young person about adult services. For young people aged 16 years and older, the care programme approach (CPA) should be used as an aid to transfer between services. The young person, and when appropriate the parent or carer, should be involved in the planning. [2008] After transition to adult services, adult healthcare professionals should carry out a comprehensive assessment of the person with ADHD that includes personal, educational, occupational and social functioning, and assessment of any coexisting conditions, especially drug misuse, personality disorders, emotional problems and learning difficulties. [2008]\", \"page\": 4, \"section_path\": [\"Recommendations\", \"1.1 Service organisation and training\", \"Service organisation\"], \"side_label\": \"1.1.6\", \"refs\": [2008, 2018]}\n",
      "{\"type\": \"heading\", \"level\": 3, \"title\": \"Training\", \"page\": 4, \"section_path\": [\"Recommendations\", \"1.1 Service organisation and training\", \"Training\"]}\n",
      "{\"type\": \"paragraph\", \"text\": \"Trusts should ensure that specialist ADHD teams for children, young people and adults jointly develop age-appropriate training programmes for the diagnosis and management of ADHD for mental health, paediatric, social care, education, forensic and primary care providers and other professionals who have contact with people with ADHD. [2008] Child and adult psychiatrists, paediatricians, and other child and adult mental health professionals (including those working in forensic services) should undertake training so that they are able to diagnose ADHD and provide treatment and management in accordance with this guideline. [2008]\", \"page\": 4, \"section_path\": [\"Recommendations\", \"1.1 Service organisation and training\", \"Training\"], \"side_label\": \"1.1.8\", \"refs\": [2008]}\n",
      "{\"type\": \"heading\", \"level\": 2, \"title\": \"1.2 Recognition, identification and referral\", \"page\": 4, \"section_path\": [\"Recommendations\", \"1.2 Recognition, identification and referral\"]}\n",
      "{\"type\": \"heading\", \"level\": 3, \"title\": \"Recognition\", \"page\": 4, \"section_path\": [\"Recommendations\", \"1.2 Recognition, identification and referral\", \"Recognition\"]}\n",
      "{\"type\": \"paragraph\", \"text\": \"Be aware that people in the following groups may have increased prevalence of ADHD compared with the general population:\", \"page\": 4, \"section_path\": [\"Recommendations\", \"1.2 Recognition, identification and referral\", \"Recognition\"], \"side_label\": \"1.2.1\"}\n",
      "{\"type\": \"paragraph\", \"text\": \"• people born preterm (see NICE's guideline on developmental follow-up of children and young people born preterm ) • looked-after children and young people • children and young people diagnosed with oppositional defiant disorder or conduct disorder • children and young people with mood disorders (for example, anxiety and depression) • people with a close family member diagnosed with ADHD • people with epilepsy • people with other neurodevelopmental disorders (for example, autism spectrum disorder, tic disorders, learning disability [intellectual disability] and specific learning difficulties) • adults with a mental health condition • people with a history of substance misuse • people known to the Youth Justice System or Adult Criminal Justice System • people with acquired brain injury. [2018] Be aware that ADHD is thought to be under-recognised in girls and women and that: • they are less likely to be referred for assessment for ADHD • they may be more likely to have undiagnosed ADHD • they may be more likely to receive an incorrect diagnosis of another mental health or neurodevelopmental condition. [2018]\", \"page\": 5, \"section_path\": [\"Recommendations\", \"1.2 Recognition, identification and referral\", \"Recognition\"], \"side_label\": \"1.2.2\", \"refs\": [2018]}\n",
      "{\"type\": \"paragraph\", \"text\": \"To find out why the committee made the 2018 recommendations on recognition and how they might affect practice, see the rationale and impact section on recognition . Full details of the evidence and the committee's discussion are in evidence review A: risk factors .\", \"page\": 6, \"section_path\": [\"Recommendations\", \"1.2 Recognition, identification and referral\", \"Recognition\"]}\n",
      "{\"type\": \"heading\", \"level\": 3, \"title\": \"Identification and referral\", \"page\": 6, \"section_path\": [\"Recommendations\", \"1.2 Recognition, identification and referral\", \"Identification and referral\"]}\n"
     ]
    }
   ],
   "source": [
    "head_jsonl(output_jsonl, 20)"
   ]
  },
  {
   "cell_type": "code",
   "execution_count": 26,
   "id": "c374d937-27a6-43fb-a555-51f67d85bad4",
   "metadata": {},
   "outputs": [],
   "source": [
    "import pandas as pd"
   ]
  },
  {
   "cell_type": "code",
   "execution_count": 27,
   "id": "d45fc6f8-a545-4f44-b968-6e0ab8c11ef6",
   "metadata": {},
   "outputs": [],
   "source": [
    "df = pd.read_json(\"../data/adhd_guideline.preprocessed.jsonl\", lines=True)"
   ]
  },
  {
   "cell_type": "code",
   "execution_count": 34,
   "id": "1df3dbf5-8235-4701-8274-a428162f61a5",
   "metadata": {},
   "outputs": [
    {
     "name": "stdout",
     "output_type": "stream",
     "text": [
      "The 2018 recommendations ensure that parents and carers of all children and young people with ADHD receive ADHD-focused information and support. Children and young people aged 5 years and over are offered medication by a healthcare professional with training and expertise in diagnosing and managing ADHD only if ADHD symptoms are still causing a significant impairment in at least one domain of their everyday life despite implementation of environmental modifications. This choice follows discussion with the child or young person and their parents or carers and a full baseline assessment. The recommendations make it clear that where a child has symptoms of oppositional defiant disorder or conduct disorder, parents and carers should be offered a parent-training programme in line with the recommendations in NICE's guideline on antisocial behaviour and conduct disorders . The current categorisation of ADHD focuses on the presence of significant impairment in the different domains of everyday life and across settings, rather than using the previously used terms of mild, moderate and severe ADHD. There is considerable overlap with the guideline population described in the 2008 recommendation. The 2018 recommendations reflect current practice and are unlikely to result in a substantial increase in prescribing and resource use. Return to recommendations\n"
     ]
    }
   ],
   "source": [
    "print(df.loc[99, \"text\"])"
   ]
  },
  {
   "cell_type": "code",
   "execution_count": null,
   "id": "decd643d-6c5d-4273-a24f-d7bc9f5166c2",
   "metadata": {},
   "outputs": [],
   "source": []
  }
 ],
 "metadata": {
  "kernelspec": {
   "display_name": "Python 3 (ipykernel)",
   "language": "python",
   "name": "python3"
  },
  "language_info": {
   "codemirror_mode": {
    "name": "ipython",
    "version": 3
   },
   "file_extension": ".py",
   "mimetype": "text/x-python",
   "name": "python",
   "nbconvert_exporter": "python",
   "pygments_lexer": "ipython3",
   "version": "3.12.1"
  }
 },
 "nbformat": 4,
 "nbformat_minor": 5
}
