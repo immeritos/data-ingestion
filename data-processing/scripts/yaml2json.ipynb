{
 "cells": [
  {
   "cell_type": "code",
   "execution_count": 10,
   "id": "546fd997-8642-490e-ab8e-470858633faf",
   "metadata": {},
   "outputs": [],
   "source": [
    "from pathlib import Path"
   ]
  },
  {
   "cell_type": "code",
   "execution_count": 11,
   "id": "5e62dacd-cd9c-4c0a-92f0-2395fe61280d",
   "metadata": {},
   "outputs": [],
   "source": [
    "import re"
   ]
  },
  {
   "cell_type": "code",
   "execution_count": 12,
   "id": "d780ea29-2971-456e-8ee2-f779ef2802c4",
   "metadata": {},
   "outputs": [],
   "source": [
    "p = Path(\"../data/adhd_guideline.yaml\")"
   ]
  },
  {
   "cell_type": "code",
   "execution_count": 13,
   "id": "a1e4f7b0-235e-4d04-afd4-859a1f71ff5c",
   "metadata": {},
   "outputs": [],
   "source": [
    "text = p.read_text(encoding=\"utf-8\")"
   ]
  },
  {
   "cell_type": "code",
   "execution_count": 14,
   "id": "4eea5aa4-c17f-4a7d-a52c-7eb42c555820",
   "metadata": {},
   "outputs": [],
   "source": [
    "fixed = re.sub(r'(?m)^(?=id:\\s*)', '---\\n', text)"
   ]
  },
  {
   "cell_type": "code",
   "execution_count": 15,
   "id": "1000e2f6-1cfd-49ec-96e4-891d23798cdc",
   "metadata": {},
   "outputs": [],
   "source": [
    "if not fixed.lstrip().startswith('---'):\n",
    "    fixed = '---\\n' + fixed"
   ]
  },
  {
   "cell_type": "code",
   "execution_count": 17,
   "id": "c3e7792c-f06f-44f0-888e-9d10f2d4d205",
   "metadata": {},
   "outputs": [
    {
     "name": "stdout",
     "output_type": "stream",
     "text": [
      "已生成 guideline_fixed.yaml\n"
     ]
    }
   ],
   "source": [
    "Path(\"guideline_fixed.yaml\").write_text(fixed, encoding=\"utf-8\")\n",
    "print(\"已生成 guideline_fixed.yaml\")"
   ]
  },
  {
   "cell_type": "code",
   "execution_count": 18,
   "id": "1d8ff853-45df-4769-90ad-48ac549d6efb",
   "metadata": {},
   "outputs": [],
   "source": [
    "import yaml, json"
   ]
  },
  {
   "cell_type": "code",
   "execution_count": 19,
   "id": "bd12da88-b839-4764-8d5a-0a276780a64e",
   "metadata": {},
   "outputs": [],
   "source": [
    "intput_file = \"../data/guideline_fixed.yaml\""
   ]
  },
  {
   "cell_type": "code",
   "execution_count": 20,
   "id": "2d59eb60-3196-45f3-abbc-f6b58dbc9237",
   "metadata": {},
   "outputs": [],
   "source": [
    "output_file = \"../data/adhd_guideline.jsonl\""
   ]
  },
  {
   "cell_type": "code",
   "execution_count": 21,
   "id": "66c03108-55b9-4336-a419-9203b0d6f0ee",
   "metadata": {},
   "outputs": [],
   "source": [
    "with open(input_file, \"r\", encoding=\"utf-8\") as f:\n",
    "    # safe_load_all 用于处理多文档（--- 分隔）\n",
    "    docs = list(yaml.safe_load_all(f))"
   ]
  },
  {
   "cell_type": "code",
   "execution_count": 22,
   "id": "ade03383-e13f-46b0-a2db-a7d1ff980fd3",
   "metadata": {},
   "outputs": [
    {
     "name": "stdout",
     "output_type": "stream",
     "text": [
      "转换完成 ✅ 已保存为 ../data/adhd_guideline.jsonl\n"
     ]
    }
   ],
   "source": [
    "with open(output_file, \"w\", encoding=\"utf-8\") as f:\n",
    "    for doc in docs:\n",
    "        if doc is not None:  # 跳过空文档\n",
    "            f.write(json.dumps(doc, ensure_ascii=False) + \"\\n\")\n",
    "\n",
    "print(f\"转换完成 ✅ 已保存为 {output_file}\")"
   ]
  },
  {
   "cell_type": "code",
   "execution_count": null,
   "id": "e6306786-ab78-439b-a1f1-1eabd15eecdd",
   "metadata": {},
   "outputs": [],
   "source": []
  }
 ],
 "metadata": {
  "kernelspec": {
   "display_name": "Python 3 (ipykernel)",
   "language": "python",
   "name": "python3"
  },
  "language_info": {
   "codemirror_mode": {
    "name": "ipython",
    "version": 3
   },
   "file_extension": ".py",
   "mimetype": "text/x-python",
   "name": "python",
   "nbconvert_exporter": "python",
   "pygments_lexer": "ipython3",
   "version": "3.12.1"
  }
 },
 "nbformat": 4,
 "nbformat_minor": 5
}
